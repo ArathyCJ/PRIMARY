{
  "nbformat": 4,
  "nbformat_minor": 0,
  "metadata": {
    "colab": {
      "provenance": []
    },
    "kernelspec": {
      "name": "python3",
      "display_name": "Python 3"
    },
    "language_info": {
      "name": "python"
    }
  },
  "cells": [
    {
      "cell_type": "code",
      "execution_count": null,
      "metadata": {
        "id": "UiiT2_474yy7"
      },
      "outputs": [],
      "source": []
    },
    {
      "cell_type": "markdown",
      "source": [
        "To find area of rectangle"
      ],
      "metadata": {
        "id": "64QA-Z1k5Av8"
      }
    },
    {
      "cell_type": "code",
      "source": [
        "l=int(input('enter the L of rectangle'))\n",
        "b= int (input ('enter the B of rectangle'))\n",
        "a=(l*b)\n",
        "print(a)"
      ],
      "metadata": {
        "colab": {
          "base_uri": "https://localhost:8080/"
        },
        "id": "NwphwxRk5HYh",
        "outputId": "f7221599-bcb6-40ad-e5af-7342be54950f"
      },
      "execution_count": null,
      "outputs": [
        {
          "output_type": "stream",
          "name": "stdout",
          "text": [
            "enter the L of rectangle3\n",
            "enter the B of rectangle4\n",
            "12\n"
          ]
        }
      ]
    },
    {
      "cell_type": "markdown",
      "source": [
        "To find sum,difference,product and quotient of two numbers"
      ],
      "metadata": {
        "id": "jLUQyjgw5zsE"
      }
    },
    {
      "cell_type": "code",
      "source": [
        "n1=int(input ('enter N1'))\n",
        "n2=int(input ('enter N2'))\n",
        "s=n1+n2\n",
        "p=n1*n2\n",
        "d=n1-n2\n",
        "q=n1/n2\n",
        "print(s)\n",
        "print (p)\n",
        "print (d)\n",
        "print (q)"
      ],
      "metadata": {
        "colab": {
          "base_uri": "https://localhost:8080/"
        },
        "id": "Nqv-BXCk5neU",
        "outputId": "d51066db-69d5-497a-cb1d-948e152eee8b"
      },
      "execution_count": null,
      "outputs": [
        {
          "output_type": "stream",
          "name": "stdout",
          "text": [
            "enter N14\n",
            "enter N25\n",
            "9\n",
            "20\n",
            "-1\n",
            "0.8\n"
          ]
        }
      ]
    },
    {
      "cell_type": "markdown",
      "source": [
        "To convert temperture"
      ],
      "metadata": {
        "id": "mlIou63Y8UDS"
      }
    },
    {
      "cell_type": "code",
      "source": [
        "f=float(input('enter a number'))\n",
        "c=(f-32)*5/9\n",
        "print(c)"
      ],
      "metadata": {
        "colab": {
          "base_uri": "https://localhost:8080/"
        },
        "id": "3XZJaZJB9WiF",
        "outputId": "869d0177-0f7a-443e-e798-f66927a5e52a"
      },
      "execution_count": null,
      "outputs": [
        {
          "output_type": "stream",
          "name": "stdout",
          "text": [
            "enter a number24\n",
            "-4.444444444444445\n"
          ]
        }
      ]
    },
    {
      "cell_type": "code",
      "source": [
        "c=float(input ('enter the number'))\n",
        "f=(c*9/5)+32\n",
        "print(f)"
      ],
      "metadata": {
        "colab": {
          "base_uri": "https://localhost:8080/"
        },
        "id": "AgG6j9Sj-FyF",
        "outputId": "a9506838-8c06-4533-9619-543569c82794"
      },
      "execution_count": null,
      "outputs": [
        {
          "output_type": "stream",
          "name": "stdout",
          "text": [
            "enter the number3\n",
            "37.4\n"
          ]
        }
      ]
    },
    {
      "cell_type": "markdown",
      "source": [
        "To check whether a number is +ve or -ve"
      ],
      "metadata": {
        "id": "V2I6f6Ik-qi8"
      }
    },
    {
      "cell_type": "code",
      "source": [
        "num=int(input('enter a number'))\n",
        "if num>0:\n",
        "   print (\"num is positive\")\n",
        "elif num<0:\n",
        "  print(\"num is negative\")\n",
        "else:\n",
        "  print ('invalid')"
      ],
      "metadata": {
        "colab": {
          "base_uri": "https://localhost:8080/"
        },
        "id": "TvHHHrET-hBk",
        "outputId": "ceb6e3ff-f32a-40d3-c1c8-a38ea57b6149"
      },
      "execution_count": null,
      "outputs": [
        {
          "output_type": "stream",
          "name": "stdout",
          "text": [
            "enter a number6\n",
            "num is positive\n"
          ]
        }
      ]
    },
    {
      "cell_type": "code",
      "source": [
        "y=int (input('enter the year '))\n",
        "if y%4==0:\n",
        "  print(\"It is a leap year\")\n",
        "elif y%4!=0:\n",
        "  print (' It is not  a leap year')"
      ],
      "metadata": {
        "colab": {
          "base_uri": "https://localhost:8080/"
        },
        "id": "20erLkVK_qQQ",
        "outputId": "ff8d528f-c813-41f2-e95d-cf6bd72cd840"
      },
      "execution_count": null,
      "outputs": [
        {
          "output_type": "stream",
          "name": "stdout",
          "text": [
            "enter the year 2005\n",
            " It is not  a leap year\n"
          ]
        }
      ]
    },
    {
      "cell_type": "code",
      "source": [
        "mark=int(input('enter mark'))\n",
        "if mark >89:\n",
        "  print ('A')\n",
        "elif mark >79:\n",
        "  print ('B')\n",
        "elif mark>69:\n",
        "   print (\"C\")\n",
        "elif mark >59:\n",
        "   print ('D')\n",
        "elif mark<59:\n",
        "  print ('E')\n",
        "else:\n",
        "  print ('invalid')\n",
        ""
      ],
      "metadata": {
        "id": "1B1Dr29yBL3k",
        "colab": {
          "base_uri": "https://localhost:8080/"
        },
        "outputId": "0e7e602e-6ee4-421e-9750-a5706e0852a6"
      },
      "execution_count": 1,
      "outputs": [
        {
          "output_type": "stream",
          "name": "stdout",
          "text": [
            "enter mark34\n",
            "E\n"
          ]
        }
      ]
    },
    {
      "cell_type": "code",
      "source": [
        "for num in range(10,0,-1):\n",
        "  print(num)"
      ],
      "metadata": {
        "colab": {
          "base_uri": "https://localhost:8080/"
        },
        "id": "qP_1JxrDhLfL",
        "outputId": "2b2a0637-47ed-4beb-e133-13690e08fb78"
      },
      "execution_count": 2,
      "outputs": [
        {
          "output_type": "stream",
          "name": "stdout",
          "text": [
            "10\n",
            "9\n",
            "8\n",
            "7\n",
            "6\n",
            "5\n",
            "4\n",
            "3\n",
            "2\n",
            "1\n"
          ]
        }
      ]
    },
    {
      "cell_type": "code",
      "source": [
        "for i in range (2,22,2):\n",
        "  print (i)"
      ],
      "metadata": {
        "colab": {
          "base_uri": "https://localhost:8080/"
        },
        "id": "2CGmi0GXhxWT",
        "outputId": "a157b9fd-b022-4db0-88c3-18b31f380af3"
      },
      "execution_count": 4,
      "outputs": [
        {
          "output_type": "stream",
          "name": "stdout",
          "text": [
            "2\n",
            "4\n",
            "6\n",
            "8\n",
            "10\n",
            "12\n",
            "14\n",
            "16\n",
            "18\n",
            "20\n"
          ]
        }
      ]
    },
    {
      "cell_type": "code",
      "source": [
        "n=int(input('enter the number'))\n",
        "for i in range (1,11):\n",
        "  print(n,\"*\",i,\"=\",n*1)"
      ],
      "metadata": {
        "colab": {
          "base_uri": "https://localhost:8080/"
        },
        "id": "c6kALA7_ib2D",
        "outputId": "c38cfbb3-1bc6-4bf8-e7ed-18f36d82725a"
      },
      "execution_count": 6,
      "outputs": [
        {
          "output_type": "stream",
          "name": "stdout",
          "text": [
            "enter the number12\n",
            "12 * 1 = 12\n",
            "12 * 2 = 12\n",
            "12 * 3 = 12\n",
            "12 * 4 = 12\n",
            "12 * 5 = 12\n",
            "12 * 6 = 12\n",
            "12 * 7 = 12\n",
            "12 * 8 = 12\n",
            "12 * 9 = 12\n",
            "12 * 10 = 12\n"
          ]
        }
      ]
    },
    {
      "cell_type": "code",
      "source": [],
      "metadata": {
        "id": "yF_FSMTgjXF8"
      },
      "execution_count": null,
      "outputs": []
    }
  ]
}