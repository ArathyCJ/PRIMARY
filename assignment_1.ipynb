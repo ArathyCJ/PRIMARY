{
  "nbformat": 4,
  "nbformat_minor": 0,
  "metadata": {
    "colab": {
      "provenance": []
    },
    "kernelspec": {
      "name": "python3",
      "display_name": "Python 3"
    },
    "language_info": {
      "name": "python"
    }
  },
  "cells": [
    {
      "cell_type": "markdown",
      "source": [
        "To find sum of two numbers"
      ],
      "metadata": {
        "id": "SGHiEFQFpl7Q"
      }
    },
    {
      "cell_type": "code",
      "source": [
        "x=int (input ('enter the first number'))\n",
        "y=int(input ('enter the second number'))\n",
        "s=x+y\n",
        "print(s)"
      ],
      "metadata": {
        "colab": {
          "base_uri": "https://localhost:8080/"
        },
        "id": "oEnTKsRxp1uW",
        "outputId": "66bcf290-ffa7-4e68-cf23-3f28e7e28133"
      },
      "execution_count": null,
      "outputs": [
        {
          "output_type": "stream",
          "name": "stdout",
          "text": [
            "enter the first number24\n",
            "enter the second number52\n",
            "76\n"
          ]
        }
      ]
    },
    {
      "cell_type": "markdown",
      "source": [
        "Product of two numbers"
      ],
      "metadata": {
        "id": "G27j_ZWOqmnr"
      }
    },
    {
      "cell_type": "code",
      "source": [
        "x= int(input('enter the first number '))\n",
        "y=int(input('enter the second number'))\n",
        "p=x*y\n",
        "print (p)"
      ],
      "metadata": {
        "colab": {
          "base_uri": "https://localhost:8080/"
        },
        "id": "TJrOAuUts-qN",
        "outputId": "d6470076-cc00-4f1a-e5b3-5fb1a209dc72"
      },
      "execution_count": null,
      "outputs": [
        {
          "output_type": "stream",
          "name": "stdout",
          "text": [
            "enter the first number 5\n",
            "enter the second number6\n",
            "30\n"
          ]
        }
      ]
    },
    {
      "cell_type": "markdown",
      "source": [
        "Double click (or enter ) to edit"
      ],
      "metadata": {
        "id": "Ny_QV4FRurLs"
      }
    },
    {
      "cell_type": "markdown",
      "source": [
        "To lowercase"
      ],
      "metadata": {
        "id": "kfhCxon5u4Vj"
      }
    },
    {
      "cell_type": "code",
      "source": [
        "x=\"ARATHY\"\n",
        "print(x.lower())"
      ],
      "metadata": {
        "colab": {
          "base_uri": "https://localhost:8080/"
        },
        "id": "RcHdJqqyu0Xh",
        "outputId": "b8d0b59a-ee6c-4d3a-be45-823edc3642f5"
      },
      "execution_count": null,
      "outputs": [
        {
          "output_type": "stream",
          "name": "stdout",
          "text": [
            "arathy\n"
          ]
        }
      ]
    },
    {
      "cell_type": "markdown",
      "source": [
        "To uppercase"
      ],
      "metadata": {
        "id": "StRmO_WRvYQW"
      }
    },
    {
      "cell_type": "code",
      "source": [
        "x=\"subash chandra bose\"\n",
        "print(x.upper())"
      ],
      "metadata": {
        "colab": {
          "base_uri": "https://localhost:8080/"
        },
        "id": "Hyr0yjm5vfzt",
        "outputId": "508a6361-c970-4e82-a25b-bc533dcf7df6"
      },
      "execution_count": null,
      "outputs": [
        {
          "output_type": "stream",
          "name": "stdout",
          "text": [
            "SUBASH CHANDRA BOSE\n"
          ]
        }
      ]
    },
    {
      "cell_type": "markdown",
      "source": [
        "Number of occurance of a character"
      ],
      "metadata": {
        "id": "V3n6NtWrv-eS"
      }
    },
    {
      "cell_type": "code",
      "source": [
        "x=(input('enter a word'))\n",
        "s=(input('enter'))\n",
        "print(x.count(s))"
      ],
      "metadata": {
        "colab": {
          "base_uri": "https://localhost:8080/"
        },
        "id": "NlBu0Jd3wSrU",
        "outputId": "c1787370-e1a9-488b-9ac2-344edb109281"
      },
      "execution_count": null,
      "outputs": [
        {
          "output_type": "stream",
          "name": "stdout",
          "text": [
            "enter a wordoppenheimer\n",
            "entere\n",
            "3\n"
          ]
        }
      ]
    },
    {
      "cell_type": "markdown",
      "source": [
        "Quotient  and Result"
      ],
      "metadata": {
        "id": "F6uCpQVTw0P0"
      }
    },
    {
      "cell_type": "code",
      "source": [
        "\n",
        "x=int (input ('enter the first number '))\n",
        "y=int (input('enter the second number '))\n",
        "q= x/y\n",
        "r=x%y\n",
        "print(q)\n",
        "print(r)"
      ],
      "metadata": {
        "colab": {
          "base_uri": "https://localhost:8080/"
        },
        "id": "KARgzFXQw5rz",
        "outputId": "b2f28125-cdae-4391-8158-0b330f511b61"
      },
      "execution_count": null,
      "outputs": [
        {
          "output_type": "stream",
          "name": "stdout",
          "text": [
            "enter the first number 24\n",
            "enter the second number 2\n",
            "12.0\n",
            "0\n"
          ]
        }
      ]
    },
    {
      "cell_type": "markdown",
      "source": [
        "Length of a string      "
      ],
      "metadata": {
        "id": "MZGd7jNn3WUE"
      }
    },
    {
      "cell_type": "code",
      "source": [
        "x=\"perservance\"\n",
        "len(x)"
      ],
      "metadata": {
        "colab": {
          "base_uri": "https://localhost:8080/"
        },
        "id": "pXPxJQnC1VBd",
        "outputId": "3b24b522-f339-4699-84d0-8597efdfa515"
      },
      "execution_count": null,
      "outputs": [
        {
          "output_type": "execute_result",
          "data": {
            "text/plain": [
              "11"
            ]
          },
          "metadata": {},
          "execution_count": 10
        }
      ]
    },
    {
      "cell_type": "code",
      "source": [],
      "metadata": {
        "id": "3ELRQYMd3r5M"
      },
      "execution_count": null,
      "outputs": []
    }
  ]
}